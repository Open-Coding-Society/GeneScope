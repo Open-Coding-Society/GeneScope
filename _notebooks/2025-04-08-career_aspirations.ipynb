{
 "cells": [
  {
   "cell_type": "markdown",
   "metadata": {},
   "source": [
    "---\n",
    "layout: page\n",
    "title: Trivia Game Plan + Documentation\n",
    "description: This jupyter notebook explains the process of the trivia game, the data used, and the code behind it.\n",
    "permalink: /trivia_documentatiown/\n",
    "---"
   ]
  },
  {
   "cell_type": "markdown",
   "metadata": {},
   "source": [
    "# Planning Process\n",
    "- First, the career quiz was meant to be a Study Resource Table which would appear after a user plays a trivia game. However, in order to make this its own, distinct feature, I changed this to be its own interactive quiz to help users determine their career path based on their love for biotechnology\n",
    "    - There is a set of 5 questions that ask about the user's interest in biotechnology \n",
    "    - The score they get will be matched to the scores of other people from a kaggle dataset to determine their career path\n",
    "    - The user will be able to compare their results to that of the dataset and get an idea of what they could achieve in the future based on past data"
   ]
  }
 ],
 "metadata": {
  "language_info": {
   "name": "python"
  }
 },
 "nbformat": 4,
 "nbformat_minor": 2
}
