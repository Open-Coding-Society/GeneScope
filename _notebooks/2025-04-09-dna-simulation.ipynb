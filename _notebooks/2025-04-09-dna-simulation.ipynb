{
 "cells": [
  {
   "cell_type": "raw",
   "id": "69eca1ea",
   "metadata": {
    "vscode": {
     "languageId": "raw"
    }
   },
   "source": [
    "---\n",
    "layout: page\n",
    "title: DNA Simulation Plan + Documentation\n",
    "permalink: /dna_docs/\n",
    "---"
   ]
  },
  {
   "cell_type": "markdown",
   "id": "68a20a45",
   "metadata": {},
   "source": [
    "## Original Plan\n",
    "Game Objective: Translate DNA sequences into codons and their corresponding amino acids to visually and interactively understand the process of genetic translation.\n",
    "\n",
    "The user starts the game and selects the species they want to analyze the DNA for (bacteria, virus, human, or strawberry).\n",
    "An animation of the DNA appears with the string of the DNA.\n",
    "The user selects the \"analyze\" button, which then stops the animation and zooms into the codons.\n",
    "Adenine, Guanine, Thymine, and Cytosine are displayed with their corresponding colors.\n",
    "The user can hover over each to learn more about its role in the DNA of the species.\n",
    "Simulation can be run over and over again, each time with a different species selected.\n",
    "\n",
    "## Improvements Made\n",
    "- **Species Selection**: The user can now select the species they want to analyze the DNA for from gene sequences of different organisms stored in the backend.\n",
    "\n",
    "This operates off an Ensembl API endpoint which uses the [POST] method to send the species name to the server. The server then returns the DNA sequence of the species along with other information like this:\n",
    "\n",
    "<code>{\n",
    "  \"gene\": \"BRCA2\",\n",
    "  \"organism\": \"homo_sapiens\",\n",
    "  \"ensembl_id\": \"ENSG00000139618\",\n",
    "  \"sequence\": \"ATG...\"\n",
    "}\n",
    "</code>\n",
    "\n",
    "## Intended flow of the program:\n",
    "\n",
    "<h3>1. The user selects the species they want to analyze the DNA for. </h3>\n",
    "\n",
    "Request Payload (JSON):\n",
    "<code>{\n",
    "  \"organism\": \"Homo sapiens\",\n",
    "  \"gene\": \"BRCA2\"\n",
    "}</code>\n",
    "\n",
    "Behavior:\n",
    "\n",
    "- Validates Input: Ensures both organism and gene are provided.\n",
    "\n",
    "<h3>2. Gene ID Lookup: Uses Ensembl API to find the Ensembl gene ID. </h3>\n",
    "\n",
    "<code>https://rest.ensembl.org/xrefs/symbol/{organism}/{gene}</code>\n",
    "\n",
    "<h3>3. Sequence Retrieval: Fetches the DNA sequence for the gene using its Ensembl ID. </h3>\n",
    "\n",
    "<code>https://rest.ensembl.org/sequence/id/{gene_id}</code>\n",
    "\n",
    "<h3>4. Intended Response </h3>\n",
    "\n",
    "<code> {\n",
    "  \"gene\": \"BRCA2\",\n",
    "  \"organism\": \"homo_sapiens\",\n",
    "  \"ensembl_id\": \"ENSG00000139618\",\n",
    "  \"sequence\": \"ATG...\"\n",
    "} </code>"
   ]
  }
 ],
 "metadata": {
  "language_info": {
   "name": "python"
  }
 },
 "nbformat": 4,
 "nbformat_minor": 5
}
