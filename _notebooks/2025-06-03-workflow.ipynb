{
 "cells": [
  {
   "cell_type": "markdown",
   "id": "fb223ec4",
   "metadata": {},
   "source": [
    "---\n",
    "layout: post\n",
    "no_header: true\n",
    "title: Genescope Workflow Diagram\n",
    "description: This blog shows the illustration of our intial planning and Workflow Diagram of the website.\n",
    "permalink: /workflow/\n",
    "show_reading_time: false\n",
    "---"
   ]
  }
 ],
 "metadata": {
  "language_info": {
   "name": "python"
  }
 },
 "nbformat": 4,
 "nbformat_minor": 5
}
