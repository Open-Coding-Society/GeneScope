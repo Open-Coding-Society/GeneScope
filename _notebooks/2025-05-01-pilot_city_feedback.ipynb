{
 "cells": [
  {
   "cell_type": "markdown",
   "id": "ce15ad6c",
   "metadata": {},
   "source": [
    "---\n",
    "layout: tailwind\n",
    "title: Notes + Feedback for pilot city review\n",
    "permalink: /pilot_city/\n",
    "---"
   ]
  },
  {
   "cell_type": "markdown",
   "id": "e4ce7c0e",
   "metadata": {},
   "source": []
  }
 ],
 "metadata": {
  "language_info": {
   "name": "python"
  }
 },
 "nbformat": 4,
 "nbformat_minor": 5
}
