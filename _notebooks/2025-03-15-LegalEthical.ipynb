{
 "cells": [
  {
   "cell_type": "raw",
   "metadata": {
    "vscode": {
     "languageId": "raw"
    }
   },
   "source": [
    "---\n",
    "title: Legal Ethical Concerns, Team Teach\n",
    "description: Legal and Ethical Concerns involving computer science and software engineering\n",
    "layout: post\n",
    "type: hacks\n",
    "comments: true\n",
    "toc: true\n",
    "permalink: /leconcerns/\n",
    "authors: Nora A, Soni D, Kathrine C\n",
    "---"
   ]
  },
  {
   "cell_type": "markdown",
   "metadata": {},
   "source": [
    "<h1 style=\"color: #dbbb44 !important; text-decoration: underline;\">Legal Concerns</h1>"
   ]
  },
  {
   "cell_type": "markdown",
   "metadata": {},
   "source": [
    "<h2 style=\"color:rgb(232, 32, 32) !important; text-decoration: underline;\">Popcorn Hacks</h2>\n",
    "## Intellectual Property (IP)\n",
    "Definition: Intellectual Property (IP) refers to creations of the mind, including inventions, literary and artistic works, designs, symbols, names, and images used in commerce. It grants creators exclusive rights to their work.\n",
    "\n",
    "Digital Impact on IP:\n",
    "- The digitization of information has made it easier to share, copy, and distribute content online.\n",
    "- While this has increased accessibility, it has also raised concerns about ownership, unauthorized use, and infringement.\n",
    "- Businesses and individuals struggle to protect their digital assets from unauthorized replication or misuse.\n",
    "\n",
    "Copyright Protection:\n",
    "- Copyright safeguards original works such as books, music, films, and digital content.\n",
    "- It prevents unauthorized use, reproduction, or distribution of creative works.\n",
    "- Copyright protection is automatic upon creation, but registration offers additional legal advantages.\n",
    "- Infringement can lead to penalties, including fines or legal action.\n",
    "\n",
    "Other Forms of IP Protection:\n",
    "- Patents: Protect inventions by granting exclusive rights to inventors.\n",
    "- Trademarks: Safeguard brand names, logos, and slogans from unauthorized use.\n",
    "- Trade Secrets: Cover confidential business information that provides a competitive advantage.\n",
    "\n",
    "Enforcing IP Rights:\n",
    "- Legal measures such as licensing agreements and digital rights management (DRM) help control IP usage.\n",
    "- Companies and creators must actively monitor and enforce their rights to prevent infringement.\n",
    "- IP protection continues to evolve with advancements in technology and digital platforms.\n"
   ]
  },
  {
   "cell_type": "markdown",
   "metadata": {},
   "source": [
    "## Licensing a Github Repository\n",
    "\n",
    "### What is a Software License?\n",
    "A software license is a **legal agreement** that defines how others can use, modify, and share your code. Without a license, the default rule is **\"All Rights Reserved\"**, meaning nobody else can legally use your code.\n",
    "\n",
    "### Why is Licensing Important?\n",
    "Protects your work while allowing others to use it under set conditions.  \n",
    "Encourages open-source collaboration with clear rules.  \n",
    "Prevents **legal issues** from arising when using or sharing code.\n"
   ]
  },
  {
   "cell_type": "markdown",
   "metadata": {},
   "source": [
    "<h2 style=\"color:rgb(32, 232, 59) !important; text-decoration: underline;\">Open Source/Access</h2>\n",
    "\n",
    "- Some of the legal ways to use materials created by someone else, include Open Source Code & Open Access\n",
    "\n",
    "\n",
    "**Open Source Software VS Open Access Code**\n",
    "Open-Source Software (OSS): Software whose source code is publicly available for anyone to use, modify, and distribute.\n",
    "Open Access Code: Code (often related to research) that is freely accessible online without restrictions on access or usage.\n",
    "\n",
    "\n",
    "**Advantages**\n",
    "- Open source are programs that are made freely available for anyone to use and make modifications to (through their own version of the content)\n",
    "- Open Source Code --> Encourages people to collaborate and contribute to your creation\n",
    "- Open access is online research free of any and all restrictions on access and free of several restrictions on use, such as copyright and license restrictions\n",
    "\n",
    "\n",
    "**Disadvantages**\n",
    "While open source content is usually used with good intention, the fact that it is free and anyone can make changes to it allows people to use it to harm other individuals or groups\n",
    "\n",
    "\n",
    "**To Keep in Mind**\n",
    "- It is important to note that : Regardless of how we legally use someone else’s creations, we should always give credit to them as they are the original author\n",
    "\n",
    "\n",
    "**Platform that Use Open Source**\n",
    "GitHub – Popular platform for hosting and collaborating on open-source projects.\n",
    "GitLab – Open-source alternative to GitHub with built-in CI/CD tools.\n",
    "Bitbucket – Git repository management platform, supports Mercurial and Git.\n",
    "SourceForge – One of the earliest open-source project hosting sites.\n",
    "\n",
    "\n",
    "\n"
   ]
  },
  {
   "cell_type": "markdown",
   "metadata": {},
   "source": [
    "## Open-Source Licenses/their uses and restrictions\n",
    "| License | Permissions | Restrictions | Common Uses |\n",
    "|---------|------------|--------------|-------------|\n",
    "| **MIT** | Free to use, modify, and distribute with credit | No liability/warranty | Web apps, libraries, frameworks |\n",
    "| **Apache 2.0** | Similar to MIT but includes patent protection | No liability, must include license notice | Large-scale projects, APIs |\n",
    "| **GPL (GNU General Public License)** | Free to use, but **modifications must also be open-source** | Can't make a private version | Software meant to stay open-source |\n",
    "| **BSD 3-Clause** | Permissive, but prevents endorsement of derived works | No warranty | Academic projects, software |\n",
    "| **Creative Commons (CC0, CC-BY)** | Public domain (CC0), attribution required (CC-BY) | Not for software, mostly docs, images | Documentation, art, books |\n",
    "\n",
    " you can use resource: **[choosealicense.com](https://choosealicense.com/)** to compare licenses"
   ]
  },
  {
   "cell_type": "markdown",
   "metadata": {},
   "source": [
    "---"
   ]
  },
  {
   "cell_type": "markdown",
   "metadata": {},
   "source": [
    "<h2 style=\"color:rgb(32, 172, 232) !important; text-decoration: underline;\">Popcorn Hacks</h2>\n",
    "**Elect one person in your team of 6 to talk, and discuss the questions below, we will call on groups randomly to answer**\n",
    "\n",
    "1. What is the purpose of have a license? What are the benefits?\n",
    "2. Define the MIT License and its pros and cons.\n",
    "3. Define the Apache 2.0 License and its pros and cons. \n",
    "3. Define the GPL License and its pros and cons. \n",
    "4. Define the CC License and its pros and cons. "
   ]
  },
  {
   "cell_type": "markdown",
   "metadata": {},
   "source": [
    "---\n",
    "\n",
    "<h1 style=\"color: #aa53e0 !important; text-decoration: underline;\">Ethical Concerns</h1>"
   ]
  },
  {
   "cell_type": "markdown",
   "metadata": {},
   "source": [
    "<h1 style=\"color:rgb(252, 105, 200) !important; text-decoration: underline;\">Licensing a Github Repository</h1>\n",
    "\n",
    "### What is a Software License?\n",
    "A software license is a **legal agreement** that defines how others can use, modify, and share your code. Without a license, the default rule is **\"All Rights Reserved\"**, meaning nobody else can legally use your code.\n",
    "\n",
    "### Why is Licensing Important?\n",
    "✅ Protects your work while allowing others to use it under set conditions.  \n",
    "✅ Encourages open-source collaboration with clear rules.  \n",
    "✅ Prevents **legal issues** from arising when using or sharing code.\n"
   ]
  },
  {
   "cell_type": "markdown",
   "metadata": {},
   "source": [
    "### 🔍 2. Common Open-Source Licenses\n",
    "| License | Permissions | Restrictions | Common Uses |\n",
    "|---------|------------|--------------|-------------|\n",
    "| **MIT** | Free to use, modify, and distribute with credit | No liability/warranty | Web apps, libraries, frameworks |\n",
    "| **Apache 2.0** | Similar to MIT but includes patent protection | No liability, must include license notice | Large-scale projects, APIs |\n",
    "| **GPL (GNU General Public License)** | Free to use, but **modifications must also be open-source** | Can't make a private version | Software meant to stay open-source |\n",
    "| **BSD 3-Clause** | Permissive, but prevents endorsement of derived works | No warranty | Academic projects, software |\n",
    "| **Creative Commons (CC0, CC-BY)** | Public domain (CC0), attribution required (CC-BY) | Not for software, mostly docs, images | Documentation, art, books |\n",
    "\n",
    " **Use [choosealicense.com](https://choosealicense.com/) to compare licenses.**"
   ]
  },
  {
   "cell_type": "markdown",
   "metadata": {},
   "source": [
    "## LAW BREAKERS 101"
   ]
  },
  {
   "cell_type": "markdown",
   "metadata": {},
   "source": [
    "# Homework \n",
    "### 3. How to Add a License to a GitHub Repository\n",
    "<br>\n",
    "\n",
    "### Method 1: Using GitHub Web Interface\n",
    "1. Go to your repository on GitHub.\n",
    "2. Click **\"Add file\"** → **\"Create new file\"**.\n",
    "3. Name it `LICENSE` or `LICENSE.txt`.\n",
    "4. Click **“Choose a license template”** and select one.\n",
    "5. Commit the file to your repo.\n",
    "\n",
    "### Method 2: Using Git Locally\n",
    "1. Open terminal and navigate to your repo:\n",
    "   ```sh\n",
    "   cd path/to/your/repo\n",
    "\n",
    "### Method 3: Create New Repo\n",
    "1. While creating a new repositor, there will be a dropdown option to add a liecense to your repository. Just pick which liences and create repository"
   ]
  },
  {
   "cell_type": "markdown",
   "metadata": {},
   "source": [
    "# Legal & Ethical Violations in GitHub Licensing\n",
    "\n",
    "## 1. What is Considered **Breaking the Law**?\n",
    "Breaking software licensing laws can lead to **legal action, repo takedowns, or financial penalties**.\n",
    "\n",
    "### **Illegal Actions**\n",
    "| Action | Reasoning | License Violated |\n",
    "|-----------|--------------------|----------------------|\n",
    "| Using code without a license | Default is **\"All Rights Reserved\"**, meaning you **can't use it**. | Any repo without a license |\n",
    "| Modifying & distributing GPL code **without releasing changes** | GPL requires derivative works to be open-source too. | **GPL (GNU General Public License)** |\n",
    "| Removing a required license notice | Some licenses (MIT, Apache) require you to keep the copyright notice. | **MIT, Apache 2.0, GPL** |\n",
    "| Selling open-source software as **proprietary** | You must follow the license terms, even if commercial use is allowed. | **GPL, Apache 2.0, CC BY** |\n",
    "| Using code with a **Non-Commercial (NC)** license for profit | Some licenses prohibit **any commercial** use. | **Creative Commons NC** |\n",
    "| Copying software without **paying for a proprietary license** | If software isn't open-source, you need a paid license. | **All proprietary software** |\n",
    "\n",
    "---\n",
    "\n",
    "## 2. Plagiarism & Stealing Code\n",
    "Even if it's not illegal, some actions are still **unethical** and can damage your reputation.\n",
    "\n",
    "### **Plagiarism & Stealing Examples**\n",
    "| **Unethical** |  **Proper Use** |\n",
    "|----------------|---------------|\n",
    "| Removing author credit from a repo and claiming it as yours | Forking and keeping attribution |\n",
    "| Copy-pasting code from GitHub/Stack Overflow **without credit** | Adding a comment or README with credit |\n",
    "| Modifying open-source code and **selling it without permission** | Using an open-source license that allows modifications |\n",
    "\n",
    "---\n",
    "\n",
    "## 3. How to Stay Legal & Ethical\n",
    "**Always check the license** before using code.  \n",
    "**Give credit** in the `README.md` or code comments.  \n",
    "**Follow open-source rules** – If in doubt, check [choosealicense.com](https://choosealicense.com/).  \n",
    "**Assume code is protected** unless explicitly stated otherwise.  \n",
    "\n",
    "**Final Rule:** _If you didn't write it, make sure you have permission to use it!_\n",
    "\n",
    "---\n"
   ]
  },
  {
   "cell_type": "markdown",
   "metadata": {},
   "source": [
    "# Homework \n",
    "Legal & Ethical Violations in GitHub Licensing\n",
    "### 3. How to Add a License to a GitHub Repository\n",
    "<br>\n",
    "\n",
    "### Method 1: Using GitHub Web Interface\n",
    "1. Go to your repository on GitHub.\n",
    "2. Click **\"Add file\"** → **\"Create new file\"**.\n",
    "3. Name it `LICENSE` or `LICENSE.txt`.\n",
    "4. Click **“Choose a license template”** and select one.\n",
    "5. Commit the file to your repo.\n",
    "\n",
    "### Method 2: Using Git Locally\n",
    "1. Open terminal and navigate to your repo:\n",
    "   ```sh\n",
    "   cd path/to/your/repo\n",
    "\n",
    "### Method 3: Create New Repo\n",
    "1. While creating a new repositor, there will be a dropdown option to add a liecense to your repository. Just pick which liences and create repository"
   ]
  }
 ],
 "metadata": {
  "language_info": {
   "name": "python"
  }
 },
 "nbformat": 4,
 "nbformat_minor": 2
}
