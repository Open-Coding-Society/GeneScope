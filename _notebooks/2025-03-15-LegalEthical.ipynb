{
 "cells": [
  {
   "cell_type": "raw",
   "metadata": {
    "vscode": {
     "languageId": "raw"
    }
   },
   "source": [
    "---\n",
    "title: Legal Ethical Concerns, Team Teach\n",
    "description: Legal and Ethical Concerns involving computer science and software engineering\n",
    "layout: post\n",
    "type: hacks\n",
    "comments: true\n",
    "toc: true\n",
    "permalink: /leconcerns/\n",
    "---"
   ]
  },
  {
   "cell_type": "markdown",
   "metadata": {},
   "source": [
    "<h1 style=\"color: #56ad4c !important; text-decoration: underline;\">Table Of Contents</h1>\n",
    "\n",
    "### 1. Legal Concerns\n",
    "\n",
    "**Key topics:** \n",
    "- Intellectual Property \n",
    "- Creative Commons License \n",
    "- Open Source/Access\n",
    "\n",
    "### 2. Ethical Concerns\n",
    "\n",
    "**Key Topics:** \n",
    "- Digital Divide and Bias\n",
    "- Misinformation\n",
    "- Plagiarism (legal or not)"
   ]
  },
  {
   "cell_type": "markdown",
   "metadata": {},
   "source": [
    "<h1 style=\"color: #dbbb44 !important; text-decoration: underline;\">Legal Concerns</h1>"
   ]
  },
  {
   "cell_type": "markdown",
   "metadata": {},
   "source": [
    "## Intellectual Property (IP)\n",
    "Definition: Intellectual Property (IP) refers to creations of the mind, including inventions, literary and artistic works, designs, symbols, names, and images used in commerce. It grants creators exclusive rights to their work.\n",
    "\n",
    "Digital Impact on IP:\n",
    "- The digitization of information has made it easier to share, copy, and distribute content online.\n",
    "- While this has increased accessibility, it has also raised concerns about ownership, unauthorized use, and infringement.\n",
    "- Businesses and individuals struggle to protect their digital assets from unauthorized replication or misuse.\n",
    "\n",
    "Copyright Protection:\n",
    "- Copyright safeguards original works such as books, music, films, and digital content.\n",
    "- It prevents unauthorized use, reproduction, or distribution of creative works.\n",
    "- Copyright protection is automatic upon creation, but registration offers additional legal advantages.\n",
    "- Infringement can lead to penalties, including fines or legal action.\n",
    "\n",
    "Other Forms of IP Protection:\n",
    "- Patents: Protect inventions by granting exclusive rights to inventors.\n",
    "- Trademarks: Safeguard brand names, logos, and slogans from unauthorized use.\n",
    "- Trade Secrets: Cover confidential business information that provides a competitive advantage.\n",
    "\n",
    "Enforcing IP Rights:\n",
    "- Legal measures such as licensing agreements and digital rights management (DRM) help control IP usage.\n",
    "- Companies and creators must actively monitor and enforce their rights to prevent infringement.\n",
    "- IP protection continues to evolve with advancements in technology and digital platforms.\n"
   ]
  },
  {
   "cell_type": "markdown",
   "metadata": {},
   "source": [
    "## Creative Commons Licesence \n"
   ]
  },
  {
   "cell_type": "markdown",
   "metadata": {},
   "source": [
    "## Open Source/Access\n",
    "<br>\n",
    "- Some of the legal ways to use materials created by someone else, include Open Source Code & Open Access\n",
    "\n",
    "\n",
    "**Open Source Software VS Open Access Code**\n",
    "Open-Source Software (OSS): Software whose source code is publicly available for anyone to use, modify, and distribute.\n",
    "Open Access Code: Code (often related to research) that is freely accessible online without restrictions on access or usage.\n",
    "\n",
    "\n",
    "**Advantages**\n",
    "- Open source are programs that are made freely available for anyone to use and make modifications to (through their own version of the content)\n",
    "- Open Source Code --> Encourages people to collaborate and contribute to your creation\n",
    "- Open access is online research free of any and all restrictions on access and free of several restrictions on use, such as copyright and license restrictions\n",
    "\n",
    "\n",
    "**Disadvantages**\n",
    "While open source content is usually used with good intention, the fact that it is free and anyone can make changes to it allows people to use it to harm other individuals or groups\n",
    "\n",
    "\n",
    "**To Keep in Mind**\n",
    "- It is important to note that : Regardless of how we legally use someone else’s creations, we should always give credit to them as they are the original author\n",
    "\n",
    "\n",
    "**Platform that Use Open Source**\n",
    "GitHub – Popular platform for hosting and collaborating on open-source projects.\n",
    "GitLab – Open-source alternative to GitHub with built-in CI/CD tools.\n",
    "Bitbucket – Git repository management platform, supports Mercurial and Git.\n",
    "SourceForge – One of the earliest open-source project hosting sites.\n",
    "\n",
    "\n",
    "\n"
   ]
  },
  {
   "cell_type": "markdown",
   "metadata": {},
   "source": [
    "---\n",
    "\n",
    "<h1 style=\"color: #aa53e0 !important; text-decoration: underline;\">Ethical Concerns</h1>"
   ]
  },
  {
   "cell_type": "markdown",
   "metadata": {},
   "source": [
    "## Digital Divide\n"
   ]
  },
  {
   "cell_type": "markdown",
   "metadata": {},
   "source": [
    "## Misinformation"
   ]
  },
  {
   "cell_type": "markdown",
   "metadata": {},
   "source": [
    "## Plagiarism\n",
    "\n",
    "Here’s a more detailed expansion on Plagiarism for AP Computer Science Principles Big Idea 5 (Legal and Ethical Concerns):\n",
    "\n",
    "⸻\n",
    "\n",
    "Plagiarism in the Digital Age\n",
    "\n",
    "Plagiarism is the act of copying someone else’s work or ideas and presenting them as your own without giving proper credit. In computer science, plagiarism can occur in various forms, such as copying code, algorithms, or creative digital content like music, art, or writing.\n",
    "\n",
    "With the growth of digital technology and the internet, plagiarism has become easier and more common, raising serious legal and ethical concerns about ownership and originality.\n",
    "\n",
    "How Plagiarism Occurs in Computer Science:\n",
    "- Copying Code from the Internet: Many students or developers copy code from platforms like GitHub or Stack Overflow without giving credit to the original creator.\n",
    "- Using Someone Else’s Project: Submitting another person’s program, app, or website as your own work.\n",
    "- Reusing Open-Source Code Without Proper Licensing: Many open-source projects allow others to use the code, but they require proper attribution or following a specific license.\n",
    "- AI-Generated Content Without Citation: Using AI tools to generate code or writing without acknowledging the source of the information or ideas.\n",
    "\n",
    "Legal and Ethical Consequences:\n",
    "- Violation of Copyright Laws: Copying digital content without permission is illegal and can lead to lawsuits or fines.\n",
    "- Academic Consequences: In schools or coding competitions, plagiarism can result in failing grades, suspension, or disqualification.\n",
    "- Damage to Reputation: In the tech industry, being caught plagiarizing code can damage your professional reputation and future career opportunities.\n",
    "- Unfair Advantage: Plagiarism is unfair to those who put in the effort to create original work.\n",
    "\n",
    "How to Avoid Plagiarism:\n",
    "- Cite Your Sources: Always give credit to the original creator when using code, ideas, or digital content.\n",
    "- Use Open-Source Licenses Properly: Follow the rules of open-source licenses, such as MIT, GPL, or Creative Commons.\n",
    "- Paraphrase and Add Your Own Ideas: Instead of directly copying, understand the concept and rewrite it in your own way.\n",
    "- Use Plagiarism Detection Tools: Tools like Turnitin or Codequiry can help detect copied code or writing.\n",
    "- Ask for Permission: If you’re unsure whether you can use certain content, ask the original creator for permission.\n",
    "\n",
    "Real-World Example:\n",
    "\n",
    "In 2016, a famous tech company was sued for copying open-source code without following the license agreement. The company was forced to remove the code and faced major backlash from the developer community. This shows how plagiarism not only leads to legal issues but also damages trust and reputation.\n",
    "\n",
    "⸻"
   ]
  }
 ],
 "metadata": {
  "language_info": {
   "name": "python"
  }
 },
 "nbformat": 4,
 "nbformat_minor": 2
}
