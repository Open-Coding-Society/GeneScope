{
 "cells": [
  {
   "cell_type": "raw",
   "metadata": {
    "vscode": {
     "languageId": "raw"
    }
   },
   "source": [
    "---\n",
    "title: Legal Ethical Concerns, Team Teach\n",
    "description: Legal and Ethical Concerns involving computer science and software engineering\n",
    "layout: post\n",
    "type: hacks\n",
    "comments: true\n",
    "toc: true\n",
    "permalink: /leconcerns/\n",
    "---"
   ]
  },
  {
   "cell_type": "markdown",
   "metadata": {},
   "source": [
    "<h1 style=\"color: #56ad4c !important; text-decoration: underline;\">Table Of Contents</h1>\n",
    "\n",
    "### 1. Legal Concerns\n",
    "\n",
    "**Key topics:** \n",
    "- Intellectual Property \n",
    "- Creative Commons License \n",
    "- Open Source/Access\n",
    "\n",
    "### 2. Ethical Concerns\n",
    "\n",
    "**Key Topics:** \n",
    "- Digital Divide and Bias\n",
    "- Misinformation\n",
    "- Plagiarism (legal or not)"
   ]
  },
  {
   "cell_type": "markdown",
   "metadata": {},
   "source": [
    "<h1 style=\"color: #dbbb44 !important; text-decoration: underline;\">Legal Concerns</h1>"
   ]
  },
  {
   "cell_type": "markdown",
   "metadata": {},
   "source": [
    "## Intellectual Property (IP)\n",
    "- Intellectual Property is a work or creation that is a result of creativity to which one has rights\n",
    "- Ever since things have been digitized, digital information (everything online) can be easily distributed and saved on computers, and our IP can be accessed quicker and easier, raising concerns about whether someone is allowed to use someone else creation\n",
    "- Copyright protects your IP and keeps anyone from using it unless you give them your expressed permission."
   ]
  },
  {
   "cell_type": "markdown",
   "metadata": {},
   "source": [
    "## Creative Commons Licesence \n"
   ]
  },
  {
   "cell_type": "markdown",
   "metadata": {},
   "source": [
    "## Open Source/Access\n",
    "<br>\n",
    "- Some of the legal ways to use materials created by someone else, include Open Source Code & Open Access\n",
    "\n",
    "\n",
    "**Open Source Software VS Open Access Code**\n",
    "Open-Source Software (OSS): Software whose source code is publicly available for anyone to use, modify, and distribute.\n",
    "Open Access Code: Code (often related to research) that is freely accessible online without restrictions on access or usage.\n",
    "\n",
    "\n",
    "**Advantages**\n",
    "- Open source are programs that are made freely available for anyone to use and make modifications to (through their own version of the content)\n",
    "- Open Source Code --> Encourages people to collaborate and contribute to your creation\n",
    "- Open access is online research free of any and all restrictions on access and free of several restrictions on use, such as copyright and license restrictions\n",
    "\n",
    "\n",
    "**Disadvantages**\n",
    "While open source content is usually used with good intention, the fact that it is free and anyone can make changes to it allows people to use it to harm other individuals or groups\n",
    "\n",
    "\n",
    "**To Keep in Mind**\n",
    "- It is important to note that : Regardless of how we legally use someone else’s creations, we should always give credit to them as they are the original author\n",
    "\n",
    "\n",
    "**Platform that Use Open Source**\n",
    "GitHub – Popular platform for hosting and collaborating on open-source projects.\n",
    "GitLab – Open-source alternative to GitHub with built-in CI/CD tools.\n",
    "Bitbucket – Git repository management platform, supports Mercurial and Git.\n",
    "SourceForge – One of the earliest open-source project hosting sites.\n",
    "\n",
    "\n",
    "\n"
   ]
  },
  {
   "cell_type": "markdown",
   "metadata": {},
   "source": [
    "---\n",
    "\n",
    "<h1 style=\"color: #aa53e0 !important; text-decoration: underline;\">Ethical Concerns</h1>"
   ]
  },
  {
   "cell_type": "markdown",
   "metadata": {},
   "source": [
    "## Digital Divide\n"
   ]
  },
  {
   "cell_type": "markdown",
   "metadata": {},
   "source": [
    "## Misinformation"
   ]
  },
  {
   "cell_type": "markdown",
   "metadata": {},
   "source": [
    "## Plagiarism"
   ]
  }
 ],
 "metadata": {
  "language_info": {
   "name": "python"
  }
 },
 "nbformat": 4,
 "nbformat_minor": 2
}
